{
  "nbformat": 4,
  "nbformat_minor": 0,
  "metadata": {
    "colab": {
      "name": "BasicPhyton.ipynb",
      "provenance": [],
      "authorship_tag": "ABX9TyMOFCU0tPlE9z+hyIDnDi5Z",
      "include_colab_link": true
    },
    "kernelspec": {
      "name": "python3",
      "display_name": "Python 3"
    },
    "language_info": {
      "name": "python"
    }
  },
  "cells": [
    {
      "cell_type": "markdown",
      "metadata": {
        "id": "view-in-github",
        "colab_type": "text"
      },
      "source": [
        "<a href=\"https://colab.research.google.com/github/Noorudinz/DataScience/blob/sampleBranch/BasicPhyton.ipynb\" target=\"_parent\"><img src=\"https://colab.research.google.com/assets/colab-badge.svg\" alt=\"Open In Colab\"/></a>"
      ]
    },
    {
      "cell_type": "code",
      "execution_count": 3,
      "metadata": {
        "colab": {
          "base_uri": "https://localhost:8080/"
        },
        "id": "-DRHu2kgSnUG",
        "outputId": "4c7e1e24-8dbb-4820-aa78-dc7058221a30"
      },
      "outputs": [
        {
          "output_type": "stream",
          "name": "stdout",
          "text": [
            "Max num is : 4\n"
          ]
        }
      ],
      "source": [
        "def maximum(a, b):\n",
        "      \n",
        "    if a >= b:\n",
        "        return a\n",
        "    else:\n",
        "        return b\n",
        "      \n",
        "# Driver code\n",
        "a = 2\n",
        "b = 4\n",
        "print('Max num is :',maximum(a, b))"
      ]
    }
  ]
}